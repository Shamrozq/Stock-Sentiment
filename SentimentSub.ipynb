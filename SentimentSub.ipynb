{
 "cells": [
  {
   "cell_type": "code",
   "execution_count": 145,
   "metadata": {},
   "outputs": [],
   "source": [
    "import pandas as pd\n",
    "from bs4 import BeautifulSoup\n",
    "import matplotlib.pyplot as plt\n",
    "from urllib.request import urlopen\n",
    "from urllib.request import Request\n",
    "from nltk.sentiment.vader import SentimentIntensityAnalyzer\n",
    "import matplotlib.pyplot as plt\n",
    "plt.style.use(\"seaborn\")\n",
    "%matplotlib inline"
   ]
  },
  {
   "cell_type": "code",
   "execution_count": 146,
   "metadata": {},
   "outputs": [],
   "source": [
    "# number of article headlines displayed per ticker\n",
    "n = 50\n",
    "# assign ticker to view\n",
    "tickers = ['tsla']"
   ]
  },
  {
   "cell_type": "code",
   "execution_count": 147,
   "metadata": {},
   "outputs": [
    {
     "name": "stdout",
     "output_type": "stream",
     "text": [
      "\n",
      "\n",
      "Recent News Headlines for tsla: \n",
      "28 Barrons Roundtable Picks to Beat the Market ( Jan-22-21 09:48PM )\n",
      "GM and Ford Stock Finally Capture Some of Teslas Heat. Why This Is Only the Beginning. ( 08:23PM )\n",
      "Old Car Brands Emerge in a New Packaging to Compete in a World Fixated on Tesla ( 08:13PM )\n",
      "Elon Musk's SpaceX plans natural-gas drilling in Texas: report ( 05:14PM )\n",
      "EVgo Is Merging With a SPAC to Go Public ( 05:03PM )\n",
      "Tesla's too high to buy now; Beyond Meat perking up; GameStop shorts feeling pain: veteran trader ( 04:39PM )\n",
      "Stock Market Rally Powers To Highs As Netflix, Apple Lead Big Tech Rally; Tesla Model Y Launches In China: Weekly Review ( 04:20PM )\n",
      "Teslas 2021 sales goals is focus for car makers fourth-quarter earnings ( 01:52PM )\n",
      "Tesla Is Shaking Up One of the Hottest Areas in Solar Power ( 12:55PM )\n",
      "Tesla's Musk Offers $100M Reward for Best Carbon-Capture Tech ( 12:45PM )\n",
      "Dow Slides As Pelosi Gets Set To Trigger Trump Impeachment; Microsoft Passes Buy Point ( 12:14PM )\n",
      "How Elon Musk and Jeff Bezos can help save our democracy ( 12:11PM )\n",
      "Why NIO Stock Is Up Today ( 12:03PM )\n",
      "This Study Shows Tesla Leading The Charge In Online Car Sales ( 11:52AM )\n",
      "Samsung Considers $10 Billion Texas Chipmaking Plant, Sources Say ( 11:49AM )\n",
      "Dow Jones Falls As IBM, Intel Dive On Earnings; Apple Nears New Buy Point ( 11:49AM )\n",
      "2020 Was a Rough Year for Short Sellers ( 11:12AM )\n",
      "Weekend reads: Buy GM and sell Tesla ( 10:56AM )\n",
      "Nano One Materials Is a Rare, Truly Innovative Company ( 10:00AM )\n",
      "EVgo Charging Network Reportedly Close to Merger With SPAC ( 09:33AM )\n",
      "PACCAR (PCAR) Gears Up for Q4 Earnings: Factors at Play ( 08:20AM )\n",
      "Is a Beat Likely for Tesla (TSLA) This Earnings Season? ( 08:17AM )\n",
      "If youre expecting traditional value stocks to outperform growth stocks, you are going to wait forever, this fund manager says ( 08:08AM )\n",
      "Better Buy: Tesla vs. General Motors ( 07:05AM )\n",
      "Buy XPeng Stock Because AV Is the New EV ( 06:30AM )\n",
      "Tesla Secures Top Spot In JD Power's Survey Of Premium EV Owners ( 04:59AM )\n",
      "Long road for Tesla in India with infrastructure, supply chain woes ( 04:59AM )\n",
      "Long road for Tesla in India with infrastructure, supply chain woes ( 04:54AM )\n",
      "EV Startup Aiways Said to Seek Funds at $2 Billion Value ( Jan-21-21 09:14PM )\n",
      "Elon Musk To Award $100M For Development Of 'Best' Carbon Capture Tech ( 09:10PM )\n",
      "Elon Musk to offer $100 million prize for 'best' carbon capture tech ( 07:37PM )\n",
      "Elon Musk to offer $100 mln prize for 'best' carbon capture tech ( 07:35PM )\n",
      "Tesla Takes Charge: Battery Manufacturing Shown Close To Fully Automated In Teaser Video ( 05:28PM )\n",
      "From brain drain to brain gain: Miami mayors plan to turn the city into a tech hub ( 04:54PM )\n",
      "Tesla bears suffer record short-sale loss in 2020 -S3 Partners ( 04:17PM )\n",
      "The Bull Case for FuboTV and More on the Market From David Einhorns Greenlight Capital ( 03:22PM )\n",
      "Dow Jones Rallies As Biden Issues Covid-19 Orders; Apple Stock Rises ( 01:40PM )\n",
      "Greenlight Calls Owning Tesla Stock a Fad Amid Silly Surge ( 12:58PM )\n",
      "David Einhorn  Notorious Tesla Short Seller  Just Had His Best Quarter Ever ( 12:20PM )\n",
      "Dow Jones Hits Record High As Apple Jumps; Hot IPO Stock Airbnb Triggers Key Sell Rule ( 11:55AM )\n",
      "Volkswagen CEO Joins Twitter to Take on Teslas Elon Musk ( 11:32AM )\n",
      "Tesla watch out: Ford & GM's stock prices are exploding ( 10:31AM )\n",
      "Ford (F) Enters First Uptrend Since 2013 ( 09:45AM )\n",
      "Tesla isn't the only auto stock exploding right now ( 09:14AM )\n",
      "Why Tesla Will Find Indian Auto Market A Tough Nut To Crack ( 07:52AM )\n",
      "Battery breakthrough could make charging cars as quick as filling up with fuel ( 07:41AM )\n",
      "5 Domestic Auto Stocks to Strengthen Your Portfolio ( 07:25AM )\n",
      "Just how generous are Elon Musk and Jeff Bezos? ( 07:05AM )\n",
      "Influencers with Andy Serwer: Ray McGuire ( 07:00AM )\n",
      "The Zacks Analyst Blog Highlights: Tesla, FedEx, General Motors, Deere & Co and Lennar ( 06:26AM )\n"
     ]
    }
   ],
   "source": [
    "# scrape data from finviz with beautiful soup and requests\n",
    "finviz_url = 'https://finviz.com/quote.ashx?t='\n",
    "news_tables = {}\n",
    "# parse the URL for the HTML tables of news\n",
    "for ticker in tickers:\n",
    "    url = finviz_url + ticker\n",
    "    req = Request(url=url,headers={'user-agent': 'my-app/0.0.1'}) \n",
    "    resp = urlopen(req)    \n",
    "    html = BeautifulSoup(resp, features=\"lxml\")\n",
    "    news_table = html.find(id='news-table')\n",
    "    news_tables[ticker] = news_table\n",
    "# iterate through tickers to gather recent headlines\n",
    "try:\n",
    "    for ticker in tickers:\n",
    "        df = news_tables[ticker]\n",
    "        df_tr = df.findAll('tr')\n",
    "    \n",
    "        print ('\\n')\n",
    "        print ('Recent News Headlines for {}: '.format(ticker))\n",
    "        \n",
    "        for i, table_row in enumerate(df_tr):\n",
    "            a_text = table_row.a.text\n",
    "            td_text = table_row.td.text\n",
    "            td_text = td_text.strip()\n",
    "            print(a_text,'(',td_text,')')\n",
    "            if i == n-1:\n",
    "                break\n",
    "except KeyError:\n",
    "    pass"
   ]
  },
  {
   "cell_type": "code",
   "execution_count": 148,
   "metadata": {},
   "outputs": [],
   "source": [
    "# hold parsed news into a list\n",
    "parsed_news = []\n",
    "# iterate through the news\n",
    "for file_name, news_table in news_tables.items():\n",
    "    # iterate through all tr tags in 'news_table'\n",
    "    for x in news_table.findAll('tr'):\n",
    "        # read the text from the tr tag into text\n",
    "        text = x.a.get_text() \n",
    "        # split the text in the td tag into a list\n",
    "        date_scrape = x.td.text.split()\n",
    "        # if the length of 'date_scrape' is 1, load 'time' with the only element\n",
    "        # if not, load 'date' with the 1st element and 'time' with the second\n",
    "        if len(date_scrape) == 1:\n",
    "            time = date_scrape[0]\n",
    "        else:\n",
    "            date = date_scrape[0]\n",
    "            time = date_scrape[1]\n",
    "        # extract the ticker from the file name, get the string up to the 1st '_' \n",
    "        ticker = file_name.split('_')[0]\n",
    "        # append ticker, date, time and headline as a list to the 'parsed_news' list\n",
    "        parsed_news.append([ticker, date, time, text])\n"
   ]
  },
  {
   "cell_type": "code",
   "execution_count": 149,
   "metadata": {},
   "outputs": [],
   "source": [
    "# nltk vader for sentiment analysis\n",
    "from nltk.sentiment.vader import SentimentIntensityAnalyzer\n",
    "# new words and values\n",
    "new_words = {\n",
    "    'crushes': 10,\n",
    "    'beats': 5,\n",
    "    'misses': -5,\n",
    "    'trouble': -10,\n",
    "    'falls': -100,\n",
    "}\n",
    "# instantiate the sentiment intensity analyzer with the existing lexicon\n",
    "vader = SentimentIntensityAnalyzer()\n",
    "# update the lexicon\n",
    "vader.lexicon.update(new_words)"
   ]
  },
  {
   "cell_type": "code",
   "execution_count": 150,
   "metadata": {},
   "outputs": [],
   "source": [
    "# use these column names\n",
    "columns = ['ticker', 'date', 'time', 'headline']\n",
    "# convert the list of lists into a DataFrame\n",
    "scored_news = pd.DataFrame(parsed_news, columns=columns)\n",
    "# iterate through the headlines and get the polarity scores\n",
    "scores = [vader.polarity_scores(headline) for headline in scored_news.headline]\n",
    "# convert the list of dicts into a DataFrame\n",
    "scores_df = pd.DataFrame(scores)\n",
    "scored_news.columns = columns\n",
    "# join the dataFrames\n",
    "scored_news = scored_news.join(scores_df)\n",
    "# convert the date column from string to datetime\n",
    "scored_news['date'] = pd.to_datetime(scored_news.date).dt.date"
   ]
  },
  {
   "cell_type": "code",
   "execution_count": 151,
   "metadata": {},
   "outputs": [
    {
     "data": {
      "image/png": "[encoded data removed]",
      "text/plain": [
       "<Figure size 720x432 with 1 Axes>"
      ]
     },
     "metadata": {
      "needs_background": "light"
     },
     "output_type": "display_data"
    }
   ],
   "source": [
    "# group by date and ticker columns from scored_news and calculate the mean\n",
    "mean_c = scored_news.groupby(['date','ticker']).mean()\n",
    "# unstack the column ticker\n",
    "mean_c = mean_c.unstack('ticker')\n",
    "# get the cross-section of compound in the 'columns' axis\n",
    "mean_c = mean_c.xs('compound', axis='columns')\n",
    "# plot a bar chart with pandas\n",
    "mean_c.plot.bar(figsize = (10,6))\n",
    "plt.savefig('sentiment.png')"
   ]
  },
  {
   "cell_type": "code",
   "execution_count": 152,
   "metadata": {},
   "outputs": [],
   "source": [
    "# count the number of headlines in scored_news (store as integer)\n",
    "num_news_before = scored_news.headline.count()\n",
    "# drop duplicates based on ticker and headline\n",
    "scored_news_clean = scored_news.drop_duplicates(subset=['headline','ticker'])"
   ]
  },
  {
   "cell_type": "code",
   "execution_count": 153,
   "metadata": {},
   "outputs": [],
   "source": [
    "# set the index to ticker and date\n",
    "single_day = scored_news_clean.set_index(['ticker', 'date'])\n",
    "# select ticker\n",
    "single_day = single_day.xs('tsla')\n",
    "# select date\n",
    "single_day = single_day.loc['2021-01-19']\n",
    "# convert the datetime string to just the time\n",
    "single_day['time'] = pd.to_datetime(single_day['time']).dt.time\n",
    "# set the index to time and sort by it\n",
    "single_day = single_day.set_index('time')\n",
    "# sort it\n",
    "single_day = single_day.sort_index()"
   ]
  },
  {
   "cell_type": "code",
   "execution_count": 154,
   "metadata": {},
   "outputs": [
    {
     "data": {
      "image/png": "[encoded data removed]",
      "text/plain": [
       "<Figure size 720x432 with 1 Axes>"
      ]
     },
     "metadata": {
      "needs_background": "light"
     },
     "output_type": "display_data"
    }
   ],
   "source": [
    "# assign plot title \n",
    "TITLE = \"Negative, neutral, and positive sentiment for {}\".format(ticker)\n",
    "# assign colors to sentiment\n",
    "COLORS = [\"red\",\"orange\",'green']\n",
    "# drop the columns that aren't useful for the plot\n",
    "plot_day = single_day.drop(['compound', 'headline'], 1)\n",
    "# plot a stacked bar chart\n",
    "plot_day.plot.bar(stacked = True, figsize=(10, 6), title = TITLE, color = COLORS).legend(bbox_to_anchor=(1.2, 0.5))\n",
    "plt.ylabel(\"scores\")\n",
    "plt.savefig('daysentiment.png')"
   ]
  }
 ],
 "metadata": {
  "kernelspec": {
   "display_name": "Python 3",
   "language": "python",
   "name": "python3"
  },
  "language_info": {
   "codemirror_mode": {
    "name": "ipython",
    "version": 3
   },
   "file_extension": ".py",
   "mimetype": "text/x-python",
   "name": "python",
   "nbconvert_exporter": "python",
   "pygments_lexer": "ipython3",
   "version": "3.7.4"
  }
 },
 "nbformat": 4,
 "nbformat_minor": 4
}
